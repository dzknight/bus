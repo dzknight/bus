{
 "cells": [
  {
   "cell_type": "code",
   "execution_count": 3,
   "id": "fc321c75",
   "metadata": {},
   "outputs": [
    {
     "data": {
      "text/plain": [
       "'buddy says Woof!'"
      ]
     },
     "execution_count": 3,
     "metadata": {},
     "output_type": "execute_result"
    }
   ],
   "source": [
    "class Dog:\n",
    "    def __init__(self, name):\n",
    "        self.name = name\n",
    "\n",
    "    def bark(self):\n",
    "        return f\"{self.name} says Woof!\"\n",
    "    \n",
    "my_dog1=Dog(\"멍멍이\")\n",
    "my_dog1.bark() \n",
    "my_dog2=Dog(\"buddy\")\n",
    "my_dog2.bark()  # Output: 멍멍이 says Woof!   "
   ]
  },
  {
   "cell_type": "code",
   "execution_count": 5,
   "id": "818d4431",
   "metadata": {},
   "outputs": [
    {
     "name": "stdout",
     "output_type": "stream",
     "text": [
      "Alice\n",
      "2\n"
     ]
    }
   ],
   "source": [
    "class Student:\n",
    "    school = \"ABC High School\"\n",
    "    student_count = 0\n",
    "    def __init__(self, name):\n",
    "        self.name = name\n",
    "        Student.student_count += 1\n",
    "\n",
    "Student1 = Student(\"Alice\")\n",
    "Student2 = Student(\"Bob\")\n",
    "\n",
    "print(Student1.name)  # Output: Alice\n",
    "print(Student.student_count)  # Output: 2"
   ]
  },
  {
   "cell_type": "code",
   "execution_count": 9,
   "id": "30da15b6",
   "metadata": {},
   "outputs": [
    {
     "name": "stdout",
     "output_type": "stream",
     "text": [
      "5000원이 입금되었습니다. 현재 잔액: 15000원\n",
      "2000원이 출금되었습니다. 현재 잔액: 13000원\n"
     ]
    }
   ],
   "source": [
    "# 간단한 은행 계좌 클래스\n",
    "class BankAccount:\n",
    "    def __init__(self, owner, balance=0):\n",
    "        self.owner = owner\n",
    "        self.balance = balance\n",
    "\n",
    "    def deposit(self, amount):\n",
    "        self.balance += amount\n",
    "        print(f\"{amount}원이 입금되었습니다. 현재 잔액: {self.balance}원\")\n",
    "\n",
    "    def withdraw(self, amount):\n",
    "        if amount > self.balance:\n",
    "            print(\"잔액이 부족합니다.\")\n",
    "        else:\n",
    "            self.balance -= amount\n",
    "            print(f\"{amount}원이 출금되었습니다. 현재 잔액: {self.balance}원\")\n",
    "\n",
    "# 사용 예시\n",
    "account = BankAccount(\"홍길동\", 10000)\n",
    "account.deposit(5000)\n",
    "account.withdraw(2000)\n"
   ]
  },
  {
   "cell_type": "code",
   "execution_count": null,
   "id": "c7eef1f1",
   "metadata": {},
   "outputs": [],
   "source": []
  }
 ],
 "metadata": {
  "kernelspec": {
   "display_name": ".venv",
   "language": "python",
   "name": "python3"
  },
  "language_info": {
   "codemirror_mode": {
    "name": "ipython",
    "version": 3
   },
   "file_extension": ".py",
   "mimetype": "text/x-python",
   "name": "python",
   "nbconvert_exporter": "python",
   "pygments_lexer": "ipython3",
   "version": "3.10.6"
  }
 },
 "nbformat": 4,
 "nbformat_minor": 5
}
